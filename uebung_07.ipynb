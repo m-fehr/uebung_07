{
 "cells": [
  {
   "cell_type": "markdown",
   "id": "50d00caf",
   "metadata": {},
   "source": [
    "# Übung 26.06.25\n",
    "\n",
    "In der heutigen Übung haben Sie erneut die Möglichkeit, folgende Themen zu üben:\n",
    "\n",
    "- Einlesen von Daten\n",
    "- Plotten von Daten\n",
    "- Regression\n",
    "\n",
    "Außerdem werfen wir mit dem **Sieb des Eratosthenes* einen ersten Blick auf das \n",
    "Thema der morgigen Vorlesung \"Algorithmen\"."
   ]
  },
  {
   "cell_type": "markdown",
   "id": "c04275cf",
   "metadata": {
    "vscode": {
     "languageId": "plaintext"
    }
   },
   "source": [
    "# Aufgabe 1\n",
    "\n",
    "n dieser Übung untersuchen Sie den Zusammenhang zwischen der Temperatur (in °C) und dem Verkauf von Eiscreme (in Stück). Die Daten wurden in einer Eisdiele über mehrere Sommertage hinweg gesammelt.\n",
    "\n",
    "Da der Zusammenhang zwischen Temperatur und Eisverkauf nicht strikt linear ist, verwenden wir polynomiale Regression, um den Zusammenhang besser abzubilden.\n",
    "\n",
    "### 1. Daten vorbereiten\n",
    "Übernehmen Sie folgenden Datensatz in ein NumPy-Array:\n",
    "\n",
    "\n",
    "### 2. Regression durchführen\n",
    "Verwenden Sie `np.polyfit`, um Polynome vom Grad 2, 3 und 4 zu fitten. Erzeugen Sie die jeweilige Regressionskurve mit `np.polyval` und stellen Sie die Ergebnisse grafisch mit `matplotlib` dar.\n",
    "\n",
    "### 3. Güte der Modelle vergleichen\n",
    "Berechnen Sie für jedes Modell das Bestimmtheitsmaß \\( R^2 \\). Dieses Maß gibt an, **wie gut das Modell die Streuung der Daten erklärt**.\n",
    "\n",
    "#### Formel für $ R^2 $:\n",
    "$$\n",
    "R^2 = 1 - \\frac{SS_{\\text{res}}}{SS_{\\text{tot}}}\n",
    "$$\n",
    "\n",
    "wobei:\n",
    "- $ SS_{\\text{res}} = \\sum (y_i - \\hat{y}_i)^2 $: Residuenquadratsumme (Abweichung zwischen Vorhersage und Realität)\n",
    "- $ SS_{\\text{tot}} = \\sum (y_i - \\bar{y})^2 $: Gesamtabweichung vom Mittelwert\n",
    "\n",
    "#### Python-Code zur Berechnung:\n",
    "```python\n",
    "y_pred = np.polyval(coeffs, x)\n",
    "ss_res = np.sum((y - y_pred)**2)\n",
    "ss_tot = np.sum((y - np.mean(y))**2)\n",
    "r2 = 1 - (ss_res / ss_tot)\n",
    "```\n",
    "### 4. Interpretation\n",
    "- Welches Modell beschreibt die Daten am besten?\n",
    "- Ist ein höherer Polynomgrad automatisch besser?\n",
    "- Wo könnte **Overfitting** auftreten?\n",
    "\n",
    "---\n",
    "\n",
    "## Hinweis für die Analyse\n",
    "Ein \\( R^2 \\)-Wert nahe bei **1** deutet auf eine sehr gute Modellanpassung hin. Aber: Ein sehr hoher Polynomgrad kann zwar zu einem perfekten Fit führen, aber auch das Modell unnötig kompliziert machen und schlecht generalisieren.\n"
   ]
  },
  {
   "cell_type": "markdown",
   "id": "20edaf75",
   "metadata": {},
   "source": [
    "## Aufgabe 2\n",
    "\n",
    "Es soll ein Temperaturprofil über die Höhe auf der Mittelachse einer Gasflamme erstellt werden. \n",
    "\n",
    "Es wurden Temperaturen in 40 Abständen oberhalb der Gasbrenneroberfläche gemessen. Die Messstellen haben eine vertikalen Abstand von 6 cm, die erste Messstelle befindet sich in einer Höhe von 3 cm.\n",
    "\n",
    "\n",
    "\n",
    "- Lesen Sie die Datei als NumPy array ein.\n",
    "- Verschaffen Sie sich einen Überblick über die Daten.\n",
    "- Überlegen Sie wie die Daten aufbereitet werden können um einen sinnvollen Temperatur-Höhe Plot zu erstellen."
   ]
  },
  {
   "cell_type": "code",
   "execution_count": null,
   "id": "08df22f3",
   "metadata": {
    "vscode": {
     "languageId": "plaintext"
    }
   },
   "outputs": [],
   "source": []
  }
 ],
 "metadata": {
  "language_info": {
   "name": "python"
  }
 },
 "nbformat": 4,
 "nbformat_minor": 5
}
